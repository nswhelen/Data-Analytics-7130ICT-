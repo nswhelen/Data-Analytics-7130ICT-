{
 "cells": [
  {
   "cell_type": "markdown",
   "metadata": {},
   "source": [
    "# Image Classification by MLP - Fashion MNIST"
   ]
  },
  {
   "cell_type": "markdown",
   "metadata": {},
   "source": [
    "In this exercise, we will try to use a neural network on a simple classification task: classifying images of clothes into 10 classes."
   ]
  },
  {
   "cell_type": "markdown",
   "metadata": {},
   "source": [
    "We will first download the data:"
   ]
  },
  {
   "cell_type": "code",
   "execution_count": null,
   "metadata": {},
   "outputs": [],
   "source": [
    "conda create -n newenvt anaconda python=3.10.9"
   ]
  },
  {
   "cell_type": "code",
   "execution_count": null,
   "metadata": {},
   "outputs": [],
   "source": [
    "activate newenvt\n",
    "conda install tensorflow"
   ]
  },
  {
   "cell_type": "code",
   "execution_count": null,
   "metadata": {},
   "outputs": [],
   "source": [
    "import tensorflow"
   ]
  },
  {
   "cell_type": "code",
   "execution_count": null,
   "metadata": {
    "scrolled": true
   },
   "outputs": [],
   "source": [
    "from tensorflow.keras.datasets import fashion_mnist\n",
    "\n",
    "#TODO: load dataset\n",
    "(X_train, y_train), (X_test, y_test) = fashion_mnist.load_data()\n",
    "\n",
    "#TODO: Resample the dataset if needed\n",
    "X_train = X_train[:10000]\n",
    "y_train = y_train[:10000]\n",
    "X_test = x_test[:2000]\n",
    "y_test = y_test[:2000]\n",
    "\n",
    "X_train.shape, x_test.shape"
   ]
  },
  {
   "cell_type": "markdown",
   "metadata": {},
   "source": [
    "This dataset contains 10 classes:\n",
    "* 0:\tT-shirt/top\n",
    "* 1:\tTrouser\n",
    "* 2:\tPullover\n",
    "* 3:\tDress\n",
    "* 4:\tCoat\n",
    "* 5:\tSandal\n",
    "* 6:\tShirt\n",
    "* 7:\tSneaker\n",
    "* 8:\tBag\n",
    "* 9:\tAnkle boot"
   ]
  },
  {
   "cell_type": "markdown",
   "metadata": {},
   "source": [
    "Now begin by exploring the data. Try to display some images with the associated label."
   ]
  },
  {
   "cell_type": "code",
   "execution_count": null,
   "metadata": {
    "scrolled": true
   },
   "outputs": [],
   "source": [
    "# TODO: Explore the data, display some input images\n",
    "%matplotlib inline\n",
    "import matplotlib.pyplot as plt\n",
    "import numpy as np\n",
    "\n",
    "label_class = ['top', 'trouser', 'pullover', 'dress', 'coat', 'sandal', 'shirt', 'sneaker', 'bag', 'ankle boot']\n",
    "\n",
    "# np.random.seed(0)\n",
    "idx = np.random.randint(X_train.shape[0])\n",
    "\n",
    "plt.imshow(x_train[idx], cmap = 'gray_r')\n",
    "plt.title(label_class[y_train[idx]])\n",
    "plt.show()"
   ]
  },
  {
   "cell_type": "markdown",
   "metadata": {},
   "source": [
    "**Before going further**: what methods could you use to perform such a classification task?"
   ]
  },
  {
   "cell_type": "markdown",
   "metadata": {},
   "source": [
    "---"
   ]
  },
  {
   "cell_type": "markdown",
   "metadata": {},
   "source": [
    "The first method you will try is using neural networks. First step is the data preparation: data rescaling, label preparation.\n",
    "\n",
    "Hint: you can use the Keras function `to_categorical`"
   ]
  },
  {
   "cell_type": "code",
   "execution_count": null,
   "metadata": {},
   "outputs": [],
   "source": [
    "# TODO: Make the data preparation\n",
    "from tensorflow.keras.utils import to_categorical\n",
    "\n",
    "y_train_cat = to_categorical(y_train, num_classes=10)\n",
    "y_test_cat = to_categorical(y_test, num_classes=10)\n",
    "\n",
    "X_train_norm = x_train/255.\n",
    "X_test_norm = x_test/255.\n",
    "\n",
    "# TODO: reshape the image data (2D array) into input 1D array for a neural network\n",
    "X_train_norm = x_train_norm.reshape(x_train_norm.shape[0],np.prod(x_train_norm.shape[1:]))\n",
    "X_test_norm = x_test_norm.reshape(x_test_norm.shape[0],np.prod(x_test_norm.shape[1:]))\n",
    "\n",
    "x_train_norm.shape, y_train_cat.shape\n",
    "y_train_cat[234]"
   ]
  },
  {
   "cell_type": "markdown",
   "metadata": {},
   "source": [
    "Next step: model building with Keras. Build your neural network architecture. At first, I would recommend a light architecture: no more than 2 hidden layers, with about 10 units per layer. Put that model into a function, so that you can reuse it later."
   ]
  },
  {
   "cell_type": "code",
   "execution_count": 5,
   "metadata": {},
   "outputs": [],
   "source": [
    "# TODO: Build your model\n",
    "from tensorflow.keras.models import Sequential\n",
    "from tensorflow.keras.layers import Dense\n",
    "\n",
    "def my_model(input_dim):\n",
    "    # Create the Sequential object\n",
    "    model = Sequential()\n",
    "\n",
    "    # Add 2 dense layers with 10 neurons each using sigmoid or relu activation\n",
    "    model.add(Dense(30, input_dim=input_dim, activation='sigmoid'))\n",
    "    model.add(Dense(40, activation='sigmoid'))\n",
    "    \n",
    "    # Add the output layer with one unit: the predicted result\n",
    "    model.add(Dense(10, activation='softmax'))\n",
    "    \n",
    "    return model"
   ]
  },
  {
   "cell_type": "markdown",
   "metadata": {},
   "source": [
    "Now compile and fit your model on your training data. Since this is a multiclass classification, the loss is not `binary_crossentropy` anymore, but `categorical_crossentropy`."
   ]
  },
  {
   "cell_type": "code",
   "execution_count": 6,
   "metadata": {
    "scrolled": true
   },
   "outputs": [
    {
     "name": "stdout",
     "output_type": "stream",
     "text": [
      "Metal device set to: Apple M1\n",
      "Epoch 1/100\n"
     ]
    },
    {
     "name": "stderr",
     "output_type": "stream",
     "text": [
      "2022-04-15 10:35:06.356893: I tensorflow/core/common_runtime/pluggable_device/pluggable_device_factory.cc:305] Could not identify NUMA node of platform GPU ID 0, defaulting to 0. Your kernel may not have been built with NUMA support.\n",
      "2022-04-15 10:35:06.357090: I tensorflow/core/common_runtime/pluggable_device/pluggable_device_factory.cc:271] Created TensorFlow device (/job:localhost/replica:0/task:0/device:GPU:0 with 0 MB memory) -> physical PluggableDevice (device: 0, name: METAL, pci bus id: <undefined>)\n",
      "2022-04-15 10:35:06.465619: W tensorflow/core/platform/profile_utils/cpu_utils.cc:128] Failed to get CPU frequency: 0 Hz\n"
     ]
    },
    {
     "name": "stdout",
     "output_type": "stream",
     "text": [
      "17/79 [=====>........................] - ETA: 0s - loss: 2.3214 - accuracy: 0.0983"
     ]
    },
    {
     "name": "stderr",
     "output_type": "stream",
     "text": [
      "2022-04-15 10:35:06.667486: I tensorflow/core/grappler/optimizers/custom_graph_optimizer_registry.cc:113] Plugin optimizer for device_type GPU is enabled.\n"
     ]
    },
    {
     "name": "stdout",
     "output_type": "stream",
     "text": [
      "79/79 [==============================] - 1s 7ms/step - loss: 2.2402 - accuracy: 0.1773\n",
      "Epoch 2/100\n",
      "79/79 [==============================] - 1s 7ms/step - loss: 2.1039 - accuracy: 0.3138\n",
      "Epoch 3/100\n",
      "79/79 [==============================] - 1s 7ms/step - loss: 1.9775 - accuracy: 0.4166\n",
      "Epoch 4/100\n",
      "79/79 [==============================] - 1s 7ms/step - loss: 1.8435 - accuracy: 0.4465\n",
      "Epoch 5/100\n",
      "79/79 [==============================] - 1s 7ms/step - loss: 1.7184 - accuracy: 0.4592\n",
      "Epoch 6/100\n",
      "79/79 [==============================] - 1s 7ms/step - loss: 1.6100 - accuracy: 0.4619\n",
      "Epoch 7/100\n",
      "79/79 [==============================] - 1s 7ms/step - loss: 1.5201 - accuracy: 0.4646\n",
      "Epoch 8/100\n",
      "79/79 [==============================] - 1s 7ms/step - loss: 1.4457 - accuracy: 0.5437\n",
      "Epoch 9/100\n",
      "79/79 [==============================] - 1s 7ms/step - loss: 1.3822 - accuracy: 0.6150\n",
      "Epoch 10/100\n",
      "79/79 [==============================] - 1s 7ms/step - loss: 1.3273 - accuracy: 0.6175\n",
      "Epoch 11/100\n",
      "79/79 [==============================] - 1s 7ms/step - loss: 1.2798 - accuracy: 0.6425\n",
      "Epoch 12/100\n",
      "79/79 [==============================] - 1s 7ms/step - loss: 1.2362 - accuracy: 0.6545\n",
      "Epoch 13/100\n",
      "79/79 [==============================] - 1s 8ms/step - loss: 1.1955 - accuracy: 0.6598\n",
      "Epoch 14/100\n",
      "79/79 [==============================] - 1s 7ms/step - loss: 1.1575 - accuracy: 0.6712\n",
      "Epoch 15/100\n",
      "79/79 [==============================] - 1s 7ms/step - loss: 1.1223 - accuracy: 0.6843\n",
      "Epoch 16/100\n",
      "79/79 [==============================] - 1s 7ms/step - loss: 1.0900 - accuracy: 0.6655\n",
      "Epoch 17/100\n",
      "79/79 [==============================] - 1s 7ms/step - loss: 1.0598 - accuracy: 0.7031\n",
      "Epoch 18/100\n",
      "79/79 [==============================] - 1s 7ms/step - loss: 1.0302 - accuracy: 0.6920\n",
      "Epoch 19/100\n",
      "79/79 [==============================] - 1s 7ms/step - loss: 1.0024 - accuracy: 0.7124\n",
      "Epoch 20/100\n",
      "79/79 [==============================] - 1s 7ms/step - loss: 0.9756 - accuracy: 0.7194\n",
      "Epoch 21/100\n",
      "79/79 [==============================] - 1s 7ms/step - loss: 0.9477 - accuracy: 0.7240\n",
      "Epoch 22/100\n",
      "79/79 [==============================] - 1s 7ms/step - loss: 0.9203 - accuracy: 0.7416\n",
      "Epoch 23/100\n",
      "79/79 [==============================] - 1s 7ms/step - loss: 0.8923 - accuracy: 0.7426\n",
      "Epoch 24/100\n",
      "79/79 [==============================] - 1s 7ms/step - loss: 0.8670 - accuracy: 0.7590\n",
      "Epoch 25/100\n",
      "79/79 [==============================] - 1s 7ms/step - loss: 0.8403 - accuracy: 0.7585\n",
      "Epoch 26/100\n",
      "79/79 [==============================] - 1s 7ms/step - loss: 0.8161 - accuracy: 0.7667\n",
      "Epoch 27/100\n",
      "79/79 [==============================] - 1s 7ms/step - loss: 0.7926 - accuracy: 0.7666\n",
      "Epoch 28/100\n",
      "79/79 [==============================] - 1s 7ms/step - loss: 0.7702 - accuracy: 0.7700\n",
      "Epoch 29/100\n",
      "79/79 [==============================] - 1s 7ms/step - loss: 0.7483 - accuracy: 0.7781\n",
      "Epoch 30/100\n",
      "79/79 [==============================] - 1s 7ms/step - loss: 0.7268 - accuracy: 0.7855\n",
      "Epoch 31/100\n",
      "79/79 [==============================] - 1s 7ms/step - loss: 0.7077 - accuracy: 0.7885\n",
      "Epoch 32/100\n",
      "79/79 [==============================] - 1s 7ms/step - loss: 0.6906 - accuracy: 0.7907\n",
      "Epoch 33/100\n",
      "79/79 [==============================] - 1s 7ms/step - loss: 0.6756 - accuracy: 0.7959\n",
      "Epoch 34/100\n",
      "79/79 [==============================] - 1s 7ms/step - loss: 0.6587 - accuracy: 0.7993\n",
      "Epoch 35/100\n",
      "79/79 [==============================] - 1s 7ms/step - loss: 0.6423 - accuracy: 0.8022\n",
      "Epoch 36/100\n",
      "79/79 [==============================] - 1s 7ms/step - loss: 0.6281 - accuracy: 0.8056\n",
      "Epoch 37/100\n",
      "79/79 [==============================] - 1s 7ms/step - loss: 0.6153 - accuracy: 0.8086\n",
      "Epoch 38/100\n",
      "79/79 [==============================] - 1s 7ms/step - loss: 0.6010 - accuracy: 0.8115\n",
      "Epoch 39/100\n",
      "79/79 [==============================] - 1s 7ms/step - loss: 0.5890 - accuracy: 0.8142\n",
      "Epoch 40/100\n",
      "79/79 [==============================] - 1s 7ms/step - loss: 0.5752 - accuracy: 0.8182\n",
      "Epoch 41/100\n",
      "79/79 [==============================] - 1s 7ms/step - loss: 0.5654 - accuracy: 0.8248\n",
      "Epoch 42/100\n",
      "79/79 [==============================] - 1s 7ms/step - loss: 0.5527 - accuracy: 0.8259\n",
      "Epoch 43/100\n",
      "79/79 [==============================] - 1s 7ms/step - loss: 0.5425 - accuracy: 0.8367\n",
      "Epoch 44/100\n",
      "79/79 [==============================] - 1s 7ms/step - loss: 0.5302 - accuracy: 0.8386\n",
      "Epoch 45/100\n",
      "79/79 [==============================] - 1s 7ms/step - loss: 0.5208 - accuracy: 0.8441\n",
      "Epoch 46/100\n",
      "79/79 [==============================] - 1s 7ms/step - loss: 0.5096 - accuracy: 0.8474\n",
      "Epoch 47/100\n",
      "79/79 [==============================] - 1s 7ms/step - loss: 0.5020 - accuracy: 0.8515\n",
      "Epoch 48/100\n",
      "79/79 [==============================] - 1s 7ms/step - loss: 0.4942 - accuracy: 0.8523\n",
      "Epoch 49/100\n",
      "79/79 [==============================] - 1s 7ms/step - loss: 0.4847 - accuracy: 0.8548\n",
      "Epoch 50/100\n",
      "79/79 [==============================] - 1s 7ms/step - loss: 0.4761 - accuracy: 0.8577\n",
      "Epoch 51/100\n",
      "79/79 [==============================] - 1s 7ms/step - loss: 0.4706 - accuracy: 0.8591\n",
      "Epoch 52/100\n",
      "79/79 [==============================] - 1s 7ms/step - loss: 0.4629 - accuracy: 0.8605\n",
      "Epoch 53/100\n",
      "79/79 [==============================] - 1s 7ms/step - loss: 0.4556 - accuracy: 0.8619\n",
      "Epoch 54/100\n",
      "79/79 [==============================] - 1s 7ms/step - loss: 0.4515 - accuracy: 0.8626\n",
      "Epoch 55/100\n",
      "79/79 [==============================] - 1s 7ms/step - loss: 0.4466 - accuracy: 0.8620\n",
      "Epoch 56/100\n",
      "79/79 [==============================] - 1s 7ms/step - loss: 0.4373 - accuracy: 0.8667\n",
      "Epoch 57/100\n",
      "79/79 [==============================] - 1s 7ms/step - loss: 0.4318 - accuracy: 0.8664\n",
      "Epoch 58/100\n",
      "79/79 [==============================] - 1s 7ms/step - loss: 0.4265 - accuracy: 0.8698\n",
      "Epoch 59/100\n",
      "79/79 [==============================] - 1s 7ms/step - loss: 0.4221 - accuracy: 0.8708\n",
      "Epoch 60/100\n",
      "79/79 [==============================] - 1s 7ms/step - loss: 0.4207 - accuracy: 0.8683\n",
      "Epoch 61/100\n",
      "79/79 [==============================] - 1s 7ms/step - loss: 0.4125 - accuracy: 0.8730\n",
      "Epoch 62/100\n",
      "79/79 [==============================] - 1s 7ms/step - loss: 0.4087 - accuracy: 0.8744\n",
      "Epoch 63/100\n",
      "79/79 [==============================] - 1s 7ms/step - loss: 0.4036 - accuracy: 0.8757\n",
      "Epoch 64/100\n",
      "79/79 [==============================] - 1s 7ms/step - loss: 0.3992 - accuracy: 0.8757\n",
      "Epoch 65/100\n",
      "79/79 [==============================] - 1s 7ms/step - loss: 0.3974 - accuracy: 0.8755\n",
      "Epoch 66/100\n",
      "79/79 [==============================] - 1s 7ms/step - loss: 0.3912 - accuracy: 0.8780\n",
      "Epoch 67/100\n",
      "79/79 [==============================] - 1s 7ms/step - loss: 0.3869 - accuracy: 0.8789\n",
      "Epoch 68/100\n",
      "79/79 [==============================] - 1s 7ms/step - loss: 0.3842 - accuracy: 0.8773\n",
      "Epoch 69/100\n",
      "79/79 [==============================] - 1s 7ms/step - loss: 0.3819 - accuracy: 0.8804\n",
      "Epoch 70/100\n",
      "79/79 [==============================] - 1s 7ms/step - loss: 0.3775 - accuracy: 0.8803\n",
      "Epoch 71/100\n",
      "79/79 [==============================] - 1s 7ms/step - loss: 0.3731 - accuracy: 0.8848\n",
      "Epoch 72/100\n",
      "79/79 [==============================] - 1s 7ms/step - loss: 0.3705 - accuracy: 0.8826\n",
      "Epoch 73/100\n",
      "79/79 [==============================] - 1s 7ms/step - loss: 0.3681 - accuracy: 0.8831\n",
      "Epoch 74/100\n",
      "79/79 [==============================] - 1s 7ms/step - loss: 0.3664 - accuracy: 0.8837\n",
      "Epoch 75/100\n",
      "79/79 [==============================] - 1s 7ms/step - loss: 0.3613 - accuracy: 0.8845\n",
      "Epoch 76/100\n",
      "79/79 [==============================] - 1s 7ms/step - loss: 0.3608 - accuracy: 0.8859\n",
      "Epoch 77/100\n",
      "79/79 [==============================] - 1s 7ms/step - loss: 0.3559 - accuracy: 0.8858\n",
      "Epoch 78/100\n",
      "79/79 [==============================] - 1s 7ms/step - loss: 0.3537 - accuracy: 0.8874\n",
      "Epoch 79/100\n",
      "79/79 [==============================] - 1s 7ms/step - loss: 0.3524 - accuracy: 0.8877\n",
      "Epoch 80/100\n",
      "79/79 [==============================] - 1s 7ms/step - loss: 0.3480 - accuracy: 0.8899\n",
      "Epoch 81/100\n",
      "79/79 [==============================] - 1s 7ms/step - loss: 0.3455 - accuracy: 0.8897\n",
      "Epoch 82/100\n",
      "79/79 [==============================] - 1s 7ms/step - loss: 0.3440 - accuracy: 0.8906\n",
      "Epoch 83/100\n",
      "79/79 [==============================] - 1s 7ms/step - loss: 0.3409 - accuracy: 0.8925\n",
      "Epoch 84/100\n",
      "79/79 [==============================] - 1s 7ms/step - loss: 0.3394 - accuracy: 0.8918\n",
      "Epoch 85/100\n",
      "79/79 [==============================] - 1s 7ms/step - loss: 0.3394 - accuracy: 0.8930\n",
      "Epoch 86/100\n",
      "79/79 [==============================] - 1s 7ms/step - loss: 0.3356 - accuracy: 0.8916\n",
      "Epoch 87/100\n",
      "79/79 [==============================] - 1s 7ms/step - loss: 0.3327 - accuracy: 0.8954\n",
      "Epoch 88/100\n",
      "79/79 [==============================] - 1s 7ms/step - loss: 0.3323 - accuracy: 0.8950\n",
      "Epoch 89/100\n",
      "79/79 [==============================] - 1s 7ms/step - loss: 0.3283 - accuracy: 0.8966\n",
      "Epoch 90/100\n",
      "79/79 [==============================] - 1s 7ms/step - loss: 0.3275 - accuracy: 0.8953\n",
      "Epoch 91/100\n",
      "79/79 [==============================] - 1s 7ms/step - loss: 0.3238 - accuracy: 0.8972\n",
      "Epoch 92/100\n",
      "79/79 [==============================] - 1s 7ms/step - loss: 0.3229 - accuracy: 0.8968\n",
      "Epoch 93/100\n",
      "79/79 [==============================] - 1s 7ms/step - loss: 0.3208 - accuracy: 0.8987\n",
      "Epoch 94/100\n",
      "79/79 [==============================] - 1s 7ms/step - loss: 0.3180 - accuracy: 0.8990\n",
      "Epoch 95/100\n",
      "79/79 [==============================] - 1s 7ms/step - loss: 0.3158 - accuracy: 0.8987\n",
      "Epoch 96/100\n",
      "79/79 [==============================] - 1s 7ms/step - loss: 0.3148 - accuracy: 0.9011\n",
      "Epoch 97/100\n",
      "79/79 [==============================] - 1s 7ms/step - loss: 0.3149 - accuracy: 0.8984\n",
      "Epoch 98/100\n",
      "79/79 [==============================] - 1s 7ms/step - loss: 0.3100 - accuracy: 0.9013\n",
      "Epoch 99/100\n",
      "79/79 [==============================] - 1s 7ms/step - loss: 0.3103 - accuracy: 0.9010\n",
      "Epoch 100/100\n",
      "79/79 [==============================] - 1s 7ms/step - loss: 0.3087 - accuracy: 0.9002\n"
     ]
    },
    {
     "data": {
      "text/plain": [
       "<keras.callbacks.History at 0x13d46ddc0>"
      ]
     },
     "execution_count": 6,
     "metadata": {},
     "output_type": "execute_result"
    }
   ],
   "source": [
    "import os\n",
    "\n",
    "#https://stackoverflow.com/questions/53014306/error-15-initializing-libiomp5-dylib-but-found-libiomp5-dylib-already-initial\n",
    "# os.environ['KMP_DUPLICATE_LIB_OK']='True' \n",
    "\n",
    "# TODO: Compile and fit your model\n",
    "model = ...\n",
    "\n",
    "model.compile(optimizer='adam', loss='categorical_crossentropy', metrics=['accuracy'])\n",
    "\n",
    "model.fit(X_train_norm, y_train_cat, epochs=100, batch_size=128)"
   ]
  },
  {
   "cell_type": "markdown",
   "metadata": {},
   "source": [
    "Once your model has been trained, compute the accuracy (and other metrics if you want) on the train and test dataset.\n",
    "\n",
    "Be careful, Keras returns softmax output (so an array of 10 values between 0 and 1, for which the sum is equal to 1). To compute correctly the accuracy, you have to convert that array into a categorical array with zeros and a 1."
   ]
  },
  {
   "cell_type": "code",
   "execution_count": 7,
   "metadata": {},
   "outputs": [
    {
     "name": "stderr",
     "output_type": "stream",
     "text": [
      "2022-04-15 10:36:04.803861: I tensorflow/core/grappler/optimizers/custom_graph_optimizer_registry.cc:113] Plugin optimizer for device_type GPU is enabled.\n"
     ]
    },
    {
     "name": "stdout",
     "output_type": "stream",
     "text": [
      "accuracy on train with NN: 0.9000000357627869\n",
      "accuracy on test with NN: 0.8375000357627869\n"
     ]
    }
   ],
   "source": [
    "# TODO: Compute the accuracy of your model\n",
    "print('accuracy on train with NN:', model.evaluate(X_train_norm, y_train_cat, verbose=0)[1])\n",
    "print('accuracy on test with NN:', model.evaluate(X_test_norm, y_test_cat, verbose=0)[1])"
   ]
  },
  {
   "cell_type": "markdown",
   "metadata": {},
   "source": [
    "What do you think of those results? Can you improve it by changing the number of layers? Of units per layer? The number of epochs? The activation functions?\n",
    "\n",
    "You should try!"
   ]
  },
  {
   "cell_type": "markdown",
   "metadata": {},
   "source": [
    "---"
   ]
  },
  {
   "cell_type": "markdown",
   "metadata": {},
   "source": [
    "In order to compare your results with more traditional machine learning methods, you will do this work with another method: a PCA followed by a classification model (of your choice). Of course, you can perform hyperparameter optimization using a gridsearch on that model!\n",
    "\n",
    "Fit your model and display the performances."
   ]
  },
  {
   "cell_type": "code",
   "execution_count": 8,
   "metadata": {},
   "outputs": [],
   "source": [
    "# TODO: Redo the classification with PCA and classification model\n",
    "from sklearn.decomposition import PCA\n",
    "\n",
    "pca = ...\n",
    "\n",
    "pca.fit(X_train_norm)\n",
    "X_train_pca = pca.transform(X_train_norm)\n",
    "X_test_pca = pca.transform(X_test_norm)"
   ]
  },
  {
   "cell_type": "code",
   "execution_count": 9,
   "metadata": {},
   "outputs": [
    {
     "name": "stdout",
     "output_type": "stream",
     "text": [
      "score with RF on train 1.0\n",
      "score with RF on train 0.836\n"
     ]
    }
   ],
   "source": [
    "# TODO: use any classifier you want\n",
    "from sklearn.ensemble import RandomForestClassifier\n",
    "\n",
    "rf = ...\n",
    "\n",
    "rf.fit(X_train_pca, y_train)\n",
    "\n",
    "print('score with RF on train', rf.score(X_train_pca, y_train))\n",
    "print('score with RF on train', rf.score(X_test_pca, y_test))"
   ]
  },
  {
   "cell_type": "markdown",
   "metadata": {},
   "source": [
    "Are the performances different? Can you explain why?"
   ]
  },
  {
   "cell_type": "markdown",
   "metadata": {},
   "source": [
    "If you still have time, you could try to use scikit-learn's `Pipeline` to perform the hyperparameter optimization jointly on the PCA and the classification model. This might improve your performances."
   ]
  }
 ],
 "metadata": {
  "kernelspec": {
   "display_name": "Python 3 (ipykernel)",
   "language": "python",
   "name": "python3"
  },
  "language_info": {
   "codemirror_mode": {
    "name": "ipython",
    "version": 3
   },
   "file_extension": ".py",
   "mimetype": "text/x-python",
   "name": "python",
   "nbconvert_exporter": "python",
   "pygments_lexer": "ipython3",
   "version": "3.10.9"
  },
  "toc": {
   "base_numbering": 1,
   "nav_menu": {},
   "number_sections": true,
   "sideBar": true,
   "skip_h1_title": false,
   "title_cell": "Table of Contents",
   "title_sidebar": "Contents",
   "toc_cell": false,
   "toc_position": {},
   "toc_section_display": true,
   "toc_window_display": false
  }
 },
 "nbformat": 4,
 "nbformat_minor": 2
}
